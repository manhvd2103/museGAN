{
  "cells": [
    {
      "cell_type": "markdown",
      "metadata": {
        "id": "view-in-github"
      },
      "source": [
        "<a href=\"https://colab.research.google.com/github/salu133445/ismir2019tutorial/blob/main/musegan.ipynb\" target=\"_parent\"><img src=\"https://colab.research.google.com/assets/colab-badge.svg\" alt=\"Open In Colab\"/></a>"
      ]
    },
    {
      "cell_type": "markdown",
      "metadata": {
        "id": "qgXVFl5SmZvC"
      },
      "source": [
        "# Generating Music with GANs"
      ]
    },
    {
      "cell_type": "markdown",
      "metadata": {
        "id": "mArAbLs2mBhd"
      },
      "source": [
        "## Prerequisites"
      ]
    },
    {
      "cell_type": "markdown",
      "metadata": {
        "id": "aeGaPSXNdqy-"
      },
      "source": [
        "### Install dependencies"
      ]
    },
    {
      "cell_type": "code",
      "execution_count": null,
      "metadata": {
        "colab": {
          "base_uri": "https://localhost:8080/"
        },
        "id": "CJ_cVBuhk13r",
        "outputId": "8de71e5b-1227-48a2-ec3b-fb5bfa25c4d7",
        "vscode": {
          "languageId": "python"
        }
      },
      "outputs": [
        {
          "output_type": "stream",
          "name": "stdout",
          "text": [
            "Mounted at /content/drive\n"
          ]
        }
      ],
      "source": [
        "from google.colab import drive\n",
        "drive.mount('/content/drive')"
      ]
    },
    {
      "cell_type": "code",
      "execution_count": null,
      "metadata": {
        "id": "PQz39McPVHUa",
        "vscode": {
          "languageId": "python"
        },
        "colab": {
          "base_uri": "https://localhost:8080/"
        },
        "outputId": "0b91e802-0022-49fa-e8df-aa9aa7fc087b"
      },
      "outputs": [
        {
          "output_type": "stream",
          "name": "stdout",
          "text": [
            "Looking in indexes: https://pypi.org/simple, https://us-python.pkg.dev/colab-wheels/public/simple/\n",
            "Collecting pypianoroll\n",
            "  Downloading pypianoroll-1.0.4-py3-none-any.whl (26 kB)\n",
            "Collecting livelossplot\n",
            "  Downloading livelossplot-0.5.5-py3-none-any.whl (22 kB)\n",
            "Requirement already satisfied: matplotlib>=1.5 in /usr/local/lib/python3.9/dist-packages (from pypianoroll) (3.7.1)\n",
            "Requirement already satisfied: scipy>=1.0.0 in /usr/local/lib/python3.9/dist-packages (from pypianoroll) (1.10.1)\n",
            "Requirement already satisfied: numpy>=1.12.0 in /usr/local/lib/python3.9/dist-packages (from pypianoroll) (1.22.4)\n",
            "Collecting pretty-midi>=0.2.8\n",
            "  Downloading pretty_midi-0.2.10.tar.gz (5.6 MB)\n",
            "\u001b[2K     \u001b[90m━━━━━━━━━━━━━━━━━━━━━━━━━━━━━━━━━━━━━━━━\u001b[0m \u001b[32m5.6/5.6 MB\u001b[0m \u001b[31m87.3 MB/s\u001b[0m eta \u001b[36m0:00:00\u001b[0m\n",
            "\u001b[?25h  Preparing metadata (setup.py) ... \u001b[?25l\u001b[?25hdone\n",
            "Requirement already satisfied: bokeh in /usr/local/lib/python3.9/dist-packages (from livelossplot) (2.4.3)\n",
            "Requirement already satisfied: pillow>=6.2.0 in /usr/local/lib/python3.9/dist-packages (from matplotlib>=1.5->pypianoroll) (8.4.0)\n",
            "Requirement already satisfied: contourpy>=1.0.1 in /usr/local/lib/python3.9/dist-packages (from matplotlib>=1.5->pypianoroll) (1.0.7)\n",
            "Requirement already satisfied: cycler>=0.10 in /usr/local/lib/python3.9/dist-packages (from matplotlib>=1.5->pypianoroll) (0.11.0)\n",
            "Requirement already satisfied: importlib-resources>=3.2.0 in /usr/local/lib/python3.9/dist-packages (from matplotlib>=1.5->pypianoroll) (5.12.0)\n",
            "Requirement already satisfied: fonttools>=4.22.0 in /usr/local/lib/python3.9/dist-packages (from matplotlib>=1.5->pypianoroll) (4.39.0)\n",
            "Requirement already satisfied: packaging>=20.0 in /usr/local/lib/python3.9/dist-packages (from matplotlib>=1.5->pypianoroll) (23.0)\n",
            "Requirement already satisfied: pyparsing>=2.3.1 in /usr/local/lib/python3.9/dist-packages (from matplotlib>=1.5->pypianoroll) (3.0.9)\n",
            "Requirement already satisfied: kiwisolver>=1.0.1 in /usr/local/lib/python3.9/dist-packages (from matplotlib>=1.5->pypianoroll) (1.4.4)\n",
            "Requirement already satisfied: python-dateutil>=2.7 in /usr/local/lib/python3.9/dist-packages (from matplotlib>=1.5->pypianoroll) (2.8.2)\n",
            "Collecting mido>=1.1.16\n",
            "  Downloading mido-1.2.10-py2.py3-none-any.whl (51 kB)\n",
            "\u001b[2K     \u001b[90m━━━━━━━━━━━━━━━━━━━━━━━━━━━━━━━━━━━━━━━━\u001b[0m \u001b[32m51.1/51.1 KB\u001b[0m \u001b[31m7.8 MB/s\u001b[0m eta \u001b[36m0:00:00\u001b[0m\n",
            "\u001b[?25hRequirement already satisfied: six in /usr/local/lib/python3.9/dist-packages (from pretty-midi>=0.2.8->pypianoroll) (1.15.0)\n",
            "Requirement already satisfied: Jinja2>=2.9 in /usr/local/lib/python3.9/dist-packages (from bokeh->livelossplot) (3.1.2)\n",
            "Requirement already satisfied: PyYAML>=3.10 in /usr/local/lib/python3.9/dist-packages (from bokeh->livelossplot) (6.0)\n",
            "Requirement already satisfied: tornado>=5.1 in /usr/local/lib/python3.9/dist-packages (from bokeh->livelossplot) (6.2)\n",
            "Requirement already satisfied: typing-extensions>=3.10.0 in /usr/local/lib/python3.9/dist-packages (from bokeh->livelossplot) (4.5.0)\n",
            "Requirement already satisfied: zipp>=3.1.0 in /usr/local/lib/python3.9/dist-packages (from importlib-resources>=3.2.0->matplotlib>=1.5->pypianoroll) (3.15.0)\n",
            "Requirement already satisfied: MarkupSafe>=2.0 in /usr/local/lib/python3.9/dist-packages (from Jinja2>=2.9->bokeh->livelossplot) (2.1.2)\n",
            "Building wheels for collected packages: pretty-midi\n",
            "  Building wheel for pretty-midi (setup.py) ... \u001b[?25l\u001b[?25hdone\n",
            "  Created wheel for pretty-midi: filename=pretty_midi-0.2.10-py3-none-any.whl size=5592303 sha256=ed114e4994794a5953765b7b92f3b2736974561811fc45e88809993408b06fac\n",
            "  Stored in directory: /root/.cache/pip/wheels/75/ec/20/b8e937a5bcf1de547ea5ce465db7de7f6761e15e6f0a01e25f\n",
            "Successfully built pretty-midi\n",
            "Installing collected packages: mido, pretty-midi, pypianoroll, livelossplot\n",
            "Successfully installed livelossplot-0.5.5 mido-1.2.10 pretty-midi-0.2.10 pypianoroll-1.0.4\n"
          ]
        }
      ],
      "source": [
        "!pip3 install pypianoroll livelossplot"
      ]
    },
    {
      "cell_type": "markdown",
      "metadata": {
        "id": "Bn-74oKmdyF7"
      },
      "source": [
        "### Import libraries"
      ]
    },
    {
      "cell_type": "code",
      "execution_count": null,
      "metadata": {
        "id": "zOkT9h38krfZ",
        "vscode": {
          "languageId": "python"
        }
      },
      "outputs": [],
      "source": [
        "from IPython.display import clear_output\n",
        "from ipywidgets import interact, IntSlider\n",
        "\n",
        "import os\n",
        "import os.path\n",
        "import random\n",
        "from pathlib import Path\n",
        "\n",
        "import numpy as np\n",
        "import matplotlib.pyplot as plt\n",
        "import torch\n",
        "import pypianoroll\n",
        "from pypianoroll import Multitrack, Track, BinaryTrack\n",
        "from tqdm import tqdm\n",
        "from livelossplot import PlotLosses\n",
        "from livelossplot.outputs import MatplotlibPlot"
      ]
    },
    {
      "cell_type": "markdown",
      "metadata": {
        "id": "6VyXuXFtoLxL"
      },
      "source": [
        "## Settings"
      ]
    },
    {
      "cell_type": "code",
      "execution_count": null,
      "metadata": {
        "id": "PA14sQ-YoTvW",
        "vscode": {
          "languageId": "python"
        }
      },
      "outputs": [],
      "source": [
        "# Data\n",
        "n_tracks = 4  # number of tracks\n",
        "n_pitches = 72  # number of pitches\n",
        "lowest_pitch = 24  # MIDI note number of the lowest pitch\n",
        "n_samples_per_song = 4  # number of samples to extract from each song in the datset\n",
        "n_measures = 4  # number of measures per sample\n",
        "beat_resolution = 4  # temporal resolution of a beat (in timestep)\n",
        "programs = [0, 0, 25, 33]  # program number for each track\n",
        "is_drums = [True, False, False, False]  # drum indicator for each track\n",
        "track_names = ['Drums', 'Piano', 'Guitar', 'Bass']  # name of each track\n",
        "tempo = 100\n",
        "\n",
        "# Training\n",
        "batch_size = 16\n",
        "latent_dim = 128\n",
        "n_steps = 30000\n",
        "\n",
        "# Sampling\n",
        "sample_interval = 500  # interval to run the sampler (in step)\n",
        "n_samples = 4"
      ]
    },
    {
      "cell_type": "code",
      "execution_count": null,
      "metadata": {
        "id": "F91IBYd8mr9f",
        "vscode": {
          "languageId": "python"
        }
      },
      "outputs": [],
      "source": [
        "measure_resolution = 4 * beat_resolution\n",
        "tempo_array = np.full((4 * 4 * measure_resolution, 1), tempo)\n",
        "assert 24 % beat_resolution == 0, (\n",
        "    \"beat_resolution must be a factor of 24 (the beat resolution used in \"\n",
        "    \"the source dataset).\"\n",
        ")\n",
        "assert len(programs) == len(is_drums) and len(programs) == len(track_names), (\n",
        "    \"Lengths of programs, is_drums and track_names must be the same.\"\n",
        ")    "
      ]
    },
    {
      "cell_type": "markdown",
      "metadata": {
        "id": "-JyxQDtXfhbp"
      },
      "source": [
        "## Data Prepration"
      ]
    },
    {
      "cell_type": "markdown",
      "metadata": {
        "id": "79jp0AoJep4X"
      },
      "source": [
        "### Download the Lakh Pianoroll Dataset (LPD)"
      ]
    },
    {
      "cell_type": "code",
      "execution_count": null,
      "metadata": {
        "id": "zTdEEg2Xdnbt",
        "vscode": {
          "languageId": "python"
        }
      },
      "outputs": [],
      "source": [
        "!mkdir -p data\n",
        "\n",
        "!tar zxf /content/drive/MyDrive/lpd_5_cleansed.tar.gz -C data/\n",
        "!tar zxf /content/drive/MyDrive/id_lists_amg.tar.gz -C data/"
      ]
    },
    {
      "cell_type": "code",
      "execution_count": null,
      "metadata": {
        "id": "GoN6wcDDjIDG",
        "vscode": {
          "languageId": "python"
        }
      },
      "outputs": [],
      "source": [
        "# we are interested in Rock only\n",
        "\n",
        "dataset_root = \"/content/data/lpd_5/lpd_5_cleansed\"\n",
        "id_list = []\n",
        "for path in os.listdir('/content/data/amg'):\n",
        "    with open(os.path.join('/content/data/amg', path)) as f:\n",
        "        id_list.extend([line.rstrip() for line in f])\n",
        "id_list = list(set(id_list))"
      ]
    },
    {
      "cell_type": "code",
      "execution_count": null,
      "metadata": {
        "id": "UWDFp1pR5CQd",
        "vscode": {
          "languageId": "python"
        }
      },
      "outputs": [],
      "source": [
        "def msd_id_to_dirs(msd_id):\n",
        "    \"\"\"Given an MSD ID, generate the path prefix.\n",
        "    E.g. TRABCD12345678 -> A/B/C/TRABCD12345678\"\"\"\n",
        "    return os.path.join(msd_id[2], msd_id[3], msd_id[4], msd_id)"
      ]
    },
    {
      "cell_type": "markdown",
      "metadata": {
        "id": "iGRUCRm_CGej"
      },
      "source": [
        "### Collect training data"
      ]
    },
    {
      "cell_type": "code",
      "execution_count": null,
      "metadata": {
        "colab": {
          "base_uri": "https://localhost:8080/"
        },
        "id": "MPGrsycbhodh",
        "outputId": "b37b656f-64b0-4258-df0b-6c1119655353",
        "vscode": {
          "languageId": "python"
        }
      },
      "outputs": [
        {
          "output_type": "stream",
          "name": "stderr",
          "text": [
            "100%|██████████| 7323/7323 [04:08<00:00, 29.46it/s]\n"
          ]
        },
        {
          "output_type": "stream",
          "name": "stdout",
          "text": [
            "Successfully collect 13555 samples from 7323 songs\n",
            "Data shape : (13555, 4, 64, 72)\n"
          ]
        }
      ],
      "source": [
        "data = []\n",
        "# Iterate over all the songs in the ID list\n",
        "for msd_id in tqdm(id_list):\n",
        "    # Load the multitrack as a pypianoroll.Multitrack instance\n",
        "    song_dir = os.path.join(dataset_root, msd_id_to_dirs(msd_id))\n",
        "    multitrack = pypianoroll.load(os.path.join(song_dir, os.listdir(song_dir)[0]))\n",
        "    multitrack.tracks = multitrack.tracks[0:4]\n",
        "    # Binarize the pianorolls\n",
        "    multitrack.binarize()\n",
        "    # Downsample the pianorolls (shape: n_timesteps x n_pitches)\n",
        "    multitrack.set_resolution(beat_resolution)\n",
        "    # Stack the pianoroll (shape: n_tracks x n_timesteps x n_pitches)\n",
        "    pianoroll = (multitrack.stack() > 0)\n",
        "    # Get the target pitch range only\n",
        "    pianoroll = pianoroll[:, :, lowest_pitch:lowest_pitch + n_pitches]\n",
        "    # Calculate the total measures\n",
        "    n_total_measures = multitrack.get_max_length() // measure_resolution\n",
        "    candidate = n_total_measures - n_measures\n",
        "    target_n_samples = min(n_total_measures // n_measures, n_samples_per_song)\n",
        "    # Randomly select a number of phrases from the multitrack pianoroll\n",
        "    if target_n_samples > 0:\n",
        "        for idx in np.random.choice(candidate, target_n_samples, False):\n",
        "            start = idx * measure_resolution\n",
        "            end = (idx + n_measures) * measure_resolution\n",
        "            # Skip the samples where some track(s) has too few notes\n",
        "            if (pianoroll.sum(axis=(1, 2)) < 10).any():\n",
        "                continue\n",
        "            data.append(pianoroll[:, start:end])\n",
        "# Stack all the collected pianoroll segments into one big array\n",
        "random.shuffle(data)\n",
        "data = np.stack(data)\n",
        "print(f\"Successfully collect {len(data)} samples from {len(id_list)} songs\")\n",
        "print(f\"Data shape : {data.shape}\")"
      ]
    },
    {
      "cell_type": "markdown",
      "metadata": {
        "id": "uqpNtJFae4aF"
      },
      "source": [
        "### Visualize an example of training samples"
      ]
    },
    {
      "cell_type": "code",
      "execution_count": null,
      "metadata": {
        "id": "3fkoP9rGgrLH",
        "vscode": {
          "languageId": "python"
        },
        "colab": {
          "base_uri": "https://localhost:8080/",
          "height": 495
        },
        "outputId": "b442a863-ab5d-4e16-e3a7-6a8f043ea4a1"
      },
      "outputs": [
        {
          "output_type": "display_data",
          "data": {
            "text/plain": [
              "<Figure size 1152x576 with 4 Axes>"
            ],
            "image/png": "[encoded data removed]"
          },
          "metadata": {
            "needs_background": "light"
          }
        }
      ],
      "source": [
        "tracks = []\n",
        "for idx, (program, is_drum, track_name) in enumerate(zip(programs, is_drums, track_names)):\n",
        "    pianoroll = np.pad(\n",
        "        np.concatenate(data[:4], 1)[idx], ((0, 0), (lowest_pitch, 128 - lowest_pitch - n_pitches)))\n",
        "    tracks.append(Track(name=track_name, program=program, is_drum=is_drum, pianoroll=pianoroll))\n",
        "multitrack = Multitrack(tracks=tracks, tempo=tempo_array, resolution=beat_resolution)\n",
        "axs = multitrack.plot()\n",
        "plt.gcf().set_size_inches((16, 8))\n",
        "for ax in axs:\n",
        "    for x in range(measure_resolution, 4 * 4 * measure_resolution, measure_resolution):\n",
        "        if x % (measure_resolution * 4) == 0:\n",
        "            ax.axvline(x - 0.5, color='k')\n",
        "        else:\n",
        "            ax.axvline(x - 0.5, color='k', linestyle='-', linewidth=1)\n",
        "plt.show()"
      ]
    },
    {
      "cell_type": "markdown",
      "metadata": {
        "id": "V6fauic_H2wt"
      },
      "source": [
        "### Create dataset and data loader"
      ]
    },
    {
      "cell_type": "code",
      "execution_count": null,
      "metadata": {
        "id": "gBxjQEZFRhAK",
        "vscode": {
          "languageId": "python"
        }
      },
      "outputs": [],
      "source": [
        "data = torch.as_tensor(data, dtype=torch.float32)\n",
        "dataset = torch.utils.data.TensorDataset(data)\n",
        "data_loader = torch.utils.data.DataLoader(\n",
        "    dataset, batch_size=batch_size, drop_last=True)"
      ]
    },
    {
      "cell_type": "markdown",
      "metadata": {
        "id": "94rrn1nmIQlG"
      },
      "source": [
        "## Model"
      ]
    },
    {
      "cell_type": "markdown",
      "metadata": {
        "id": "SyX6Duf5fkiw"
      },
      "source": [
        " ### Define the generator"
      ]
    },
    {
      "cell_type": "code",
      "execution_count": null,
      "metadata": {
        "id": "Fj9sCKbSKcse",
        "vscode": {
          "languageId": "python"
        }
      },
      "outputs": [],
      "source": [
        "class GeneraterBlock(torch.nn.Module):\n",
        "    def __init__(self, in_dim, out_dim, kernel, stride):\n",
        "        super().__init__()\n",
        "        self.transconv = torch.nn.ConvTranspose3d(in_dim, out_dim, kernel, stride)\n",
        "        self.batchnorm = torch.nn.BatchNorm3d(out_dim)\n",
        "    \n",
        "    def forward(self, x):\n",
        "        x = self.transconv(x)\n",
        "        x = self.batchnorm(x)\n",
        "        return torch.nn.functional.relu(x)"
      ]
    },
    {
      "cell_type": "code",
      "execution_count": null,
      "metadata": {
        "id": "ZWPAxfkmsIWn",
        "vscode": {
          "languageId": "python"
        }
      },
      "outputs": [],
      "source": [
        "\n",
        "class Generator(torch.nn.Module):\n",
        "    \"\"\"A convolutional neural network (CNN) based generator. The generator takes\n",
        "    as input a latent vector and outputs a fake sample.\"\"\"\n",
        "    def __init__(self):\n",
        "        super().__init__()\n",
        "        self.transconv0 = torch.nn.Sequential(\n",
        "            GeneraterBlock(128, 2048, (2, 1, 1), (2, 1, 1)),\n",
        "            GeneraterBlock(2048, 1024, (2, 1, 1), (2, 1, 1)),\n",
        "            GeneraterBlock(1024, 512, (1, 2, 1), (1, 2, 1)),\n",
        "            GeneraterBlock(512, 256, (1, 2, 1), (1, 2, 1)),\n",
        "            GeneraterBlock(256, 128, (1, 1, 2), (1, 1, 2)),\n",
        "            GeneraterBlock(128, 64, (1, 1, 2), (1, 1, 2)),\n",
        "            GeneraterBlock(64, 32, (1, 1, 3), (1, 1, 1))\n",
        "        )\n",
        "        self.transconv1 = torch.nn.ModuleList([\n",
        "            GeneraterBlock(32, 16, (1, 4, 1), (1, 4, 1))\n",
        "            for _ in range(4)\n",
        "        ])\n",
        "        self.transconv2 = torch.nn.ModuleList([\n",
        "            torch.nn.Sequential(\n",
        "                torch.nn.ConvTranspose3d(16, 1, (1, 1, 12), (1, 1, 12)),\n",
        "                torch.nn.Tanh()\n",
        "            )\n",
        "            for _ in range(4)\n",
        "        ])\n",
        "\n",
        "    def forward(self, x):\n",
        "        x = x.view(-1, 128, 1, 1, 1)\n",
        "        x = self.transconv0(x)\n",
        "        x = [transconv(x) for transconv in self.transconv1]\n",
        "        x = torch.cat([transconv(x_) for x_, transconv in zip(x, self.transconv2)], 1)\n",
        "        x = x.view(-1, 4, 4 * 16, 72)\n",
        "        return x"
      ]
    },
    {
      "cell_type": "markdown",
      "metadata": {
        "id": "cJPGeYNbfvw6"
      },
      "source": [
        " ### Define the discriminator"
      ]
    },
    {
      "cell_type": "code",
      "execution_count": null,
      "metadata": {
        "id": "Knw5u6Px2c8j",
        "vscode": {
          "languageId": "python"
        }
      },
      "outputs": [],
      "source": [
        "class LayerNorm(torch.nn.Module):\n",
        "    \"\"\"An implementation of Layer normalization that does not require size\n",
        "    information. Copied from https://github.com/pytorch/pytorch/issues/1959.\"\"\"\n",
        "    def __init__(self, n_features, eps=1e-5, affine=True):\n",
        "        super().__init__()\n",
        "        self.n_features = n_features\n",
        "        self.affine = affine\n",
        "        self.eps = eps\n",
        "        if self.affine:\n",
        "            self.gamma = torch.nn.Parameter(torch.Tensor(n_features).uniform_())\n",
        "            self.beta = torch.nn.Parameter(torch.zeros(n_features))\n",
        "\n",
        "    def forward(self, x):\n",
        "        shape = [-1] + [1] * (x.dim() - 1)\n",
        "        mean = x.view(x.size(0), -1).mean(1).view(*shape)\n",
        "        std = x.view(x.size(0), -1).std(1).view(*shape)\n",
        "        y = (x - mean) / (std + self.eps)\n",
        "        if self.affine:\n",
        "            shape = [1, -1] + [1] * (x.dim() - 2)\n",
        "            y = self.gamma.view(*shape) * y + self.beta.view(*shape)\n",
        "        return y"
      ]
    },
    {
      "cell_type": "code",
      "execution_count": null,
      "metadata": {
        "id": "gZhbO2jiFLG5",
        "vscode": {
          "languageId": "python"
        }
      },
      "outputs": [],
      "source": [
        "class DiscriminatorBlock(torch.nn.Module):\n",
        "    def __init__(self, in_dim, out_dim, kernel, stride):\n",
        "        super().__init__()\n",
        "        self.transconv = torch.nn.Conv3d(in_dim, out_dim, kernel, stride)\n",
        "        self.layernorm = LayerNorm(out_dim)\n",
        "        self.dropout = torch.nn.Dropout(p=0.1)\n",
        "    def forward(self, x):\n",
        "        x = self.transconv(x)\n",
        "        x = self.layernorm(x)\n",
        "        x = self.dropout(x)\n",
        "        return torch.nn.functional.leaky_relu(x)"
      ]
    },
    {
      "cell_type": "code",
      "execution_count": null,
      "metadata": {
        "id": "kczm8A8Nl78i",
        "vscode": {
          "languageId": "python"
        }
      },
      "outputs": [],
      "source": [
        "class Discriminator(torch.nn.Module):\n",
        "    \"\"\"A convolutional neural network (CNN) based discriminator. The\n",
        "    discriminator takes as input either a real sample (in the training data) or\n",
        "    a fake sample (generated by the generator) and outputs a scalar indicating\n",
        "    its authentity.\n",
        "    \"\"\"\n",
        "    def __init__(self):\n",
        "        super().__init__()\n",
        "        self.conv0 = torch.nn.ModuleList([\n",
        "            DiscriminatorBlock(1, 16, (1, 1, 12), (1, 1, 12)) for _ in range(4)\n",
        "        ])\n",
        "        self.conv1 = torch.nn.ModuleList([\n",
        "            DiscriminatorBlock(16, 16, (1, 4, 1), (1, 4, 1)) for _ in range(4)\n",
        "        ])\n",
        "        self.conv2 = torch.nn.Sequential(\n",
        "            DiscriminatorBlock(16 * 4, 64, (1, 1, 3), (1, 1, 1)),\n",
        "            DiscriminatorBlock(64, 128, (1, 1, 2), (1, 1, 2)),\n",
        "            DiscriminatorBlock(128, 128, (1, 1, 2), (1, 1, 2)),\n",
        "            DiscriminatorBlock(128, 256, (1, 2, 1), (1, 2, 1)),\n",
        "            DiscriminatorBlock(256, 256, (1, 2, 1), (1, 2, 1)),\n",
        "            DiscriminatorBlock(256, 512, (2, 1, 1), (1, 1, 1)),\n",
        "            DiscriminatorBlock(512, 512, (3, 1, 1), (3, 1, 1))\n",
        "        )\n",
        "        self.dense = torch.nn.Linear(512, 1)\n",
        "\n",
        "    def forward(self, x):\n",
        "        #print('d_input', x.shape)\n",
        "        x = x.view(-1, 4, 4, 16, 72)\n",
        "        x = [conv(x[:, [i]]) for i, conv in enumerate(self.conv0)]\n",
        "        x = torch.cat([conv(x_) for x_, conv in zip(x, self.conv1)], 1)\n",
        "        x = self.conv2(x)\n",
        "        x = x.view(-1, 512)\n",
        "        x = self.dense(x)\n",
        "        return x\n",
        "     \n"
      ]
    },
    {
      "cell_type": "markdown",
      "metadata": {
        "id": "IiPl8DYCI7pC"
      },
      "source": [
        "## Training functions"
      ]
    },
    {
      "cell_type": "code",
      "execution_count": null,
      "metadata": {
        "id": "5wngyfaaObas",
        "vscode": {
          "languageId": "python"
        }
      },
      "outputs": [],
      "source": [
        "def compute_gradient_penalty(discriminator, real_samples, fake_samples):\n",
        "    \"\"\"Compute the gradient penalty for regularization. Intuitively, the\n",
        "    gradient penalty help stablize the magnitude of the gradients that the\n",
        "    discriminator provides to the generator, and thus help stablize the training\n",
        "    of the generator.\"\"\"\n",
        "    # Get random interpolations between real and fake samples\n",
        "    alpha = torch.rand(real_samples.size(0), 1, 1, 1).cuda()\n",
        "    interpolates = (alpha * real_samples + ((1 - alpha) * fake_samples))\n",
        "    interpolates = interpolates.requires_grad_(True)\n",
        "    # Get the discriminator output for the interpolations\n",
        "    d_interpolates = discriminator(interpolates)\n",
        "    # Get gradients w.r.t. the interpolations\n",
        "    fake = torch.ones(real_samples.size(0), 1).cuda()\n",
        "    gradients = torch.autograd.grad(\n",
        "        outputs=d_interpolates,\n",
        "        inputs=interpolates,\n",
        "        grad_outputs=fake,  \n",
        "        create_graph=True,\n",
        "        retain_graph=True,\n",
        "        only_inputs=True\n",
        "    )[0]\n",
        "    # Compute gradient penalty\n",
        "    gradients = gradients.view(gradients.size(0), -1)\n",
        "    gradient_penalty = ((gradients.norm(2, dim=1) - 1) ** 2).mean()\n",
        "    return gradient_penalty"
      ]
    },
    {
      "cell_type": "code",
      "execution_count": null,
      "metadata": {
        "id": "x3mgXtVN8ldM",
        "vscode": {
          "languageId": "python"
        }
      },
      "outputs": [],
      "source": [
        "def train_one_step(d_optimizer, g_optimizer, real_samples):\n",
        "    \"\"\"Train the networks for one step.\"\"\"\n",
        "    # Sample from the lantent distribution\n",
        "    latent = torch.rand(batch_size, latent_dim)\n",
        "\n",
        "    # Transfer data to GPU\n",
        "    if torch.cuda.is_available():\n",
        "        real_samples = real_samples .cuda()\n",
        "        latent = latent.cuda()\n",
        "    \n",
        "    # === Train the discriminator ===\n",
        "    for _ in range(5):\n",
        "        # Reset cached gradients to zero\n",
        "        d_optimizer.zero_grad()\n",
        "        # Get discriminator outputs for the real samples\n",
        "        prediction_real = discriminator(real_samples)\n",
        "        # Compute the loss function\n",
        "        # d_loss_real = torch.mean(torch.nn.functional.relu(1. - prediction_real))\n",
        "        d_loss_real = -torch.mean(prediction_real)\n",
        "        # Backpropagate the gradients\n",
        "        #d_loss_real.backward()\n",
        "        #print('d_loss_real', d_loss_real.shape)\n",
        "        \n",
        "        # Generate fake samples with the generator\n",
        "        fake_samples = generator(latent)\n",
        "        # Get discriminator outputs for the fake samples\n",
        "        prediction_fake_d = discriminator(fake_samples.detach())\n",
        "        # Compute the loss function\n",
        "        # d_loss_fake = torch.mean(torch.nn.functional.relu(1. + prediction_fake_d))\n",
        "        d_loss_fake = torch.mean(prediction_fake_d)\n",
        "        # Backpropagate the gradients\n",
        "        #d_loss_fake.backward()\n",
        "        #print('d_loss_fake', d_loss_fake.shape)\n",
        "\n",
        "        # Compute gradient penalty\n",
        "        gradient_penalty = 10.0 * compute_gradient_penalty(\n",
        "            discriminator, real_samples.data, fake_samples.data\n",
        "        )\n",
        "        # Backpropagate the gradients\n",
        "        #gradient_penalty.backward()\n",
        "        #print('gradient_penalty', gradient_penalty.shape)\n",
        "        d_loss = d_loss_real + d_loss_fake + gradient_penalty\n",
        "        d_loss.backward()\n",
        "\n",
        "        # Update the weights\n",
        "        d_optimizer.step()\n",
        "    \n",
        "    # === Train the generator ===\n",
        "    # Reset cached gradients to zero\n",
        "    g_optimizer.zero_grad()\n",
        "    # Get discriminator outputs for the fake samples\n",
        "    prediction_fake_g = discriminator(fake_samples)\n",
        "    # Compute the loss function\n",
        "    g_loss = -torch.mean(prediction_fake_g)\n",
        "    # Backpropagate the gradients\n",
        "    g_loss.backward()\n",
        "    # Update the weights\n",
        "    g_optimizer.step()\n",
        "\n",
        "    return d_loss, g_loss"
      ]
    },
    {
      "cell_type": "markdown",
      "metadata": {
        "id": "4ukfh1dxIsDw"
      },
      "source": [
        "## Training Preparation"
      ]
    },
    {
      "cell_type": "code",
      "execution_count": null,
      "metadata": {
        "id": "uCqTBe3p09xY",
        "vscode": {
          "languageId": "python"
        },
        "colab": {
          "base_uri": "https://localhost:8080/"
        },
        "outputId": "b947b615-458c-45b3-d3f8-54de899d65e4"
      },
      "outputs": [
        {
          "output_type": "stream",
          "name": "stdout",
          "text": [
            "Number of parameters in G: 6138724\n",
            "Number of parameters in D: 1317953\n"
          ]
        }
      ],
      "source": [
        "# Create data loader\n",
        "# data_loader = get_data_loader()\n",
        "\n",
        "# Create neural networks\n",
        "discriminator = Discriminator()\n",
        "generator = Generator()\n",
        "print(\"Number of parameters in G: {}\".format(\n",
        "    sum(p.numel() for p in generator.parameters() if p.requires_grad)))\n",
        "print(\"Number of parameters in D: {}\".format(\n",
        "    sum(p.numel() for p in discriminator.parameters() if p.requires_grad)))\n",
        "\n",
        "# Create optimizers\n",
        "d_optimizer = torch.optim.Adam(\n",
        "    discriminator.parameters(), lr=0.0005,  betas=(0.5, 0.9999))\n",
        "g_optimizer = torch.optim.Adam(\n",
        "    generator.parameters(), lr=0.0005, betas=(0.5, 0.9999))\n",
        "\n",
        "# Prepare the inputs for the sampler, which wil run during the training\n",
        "sample_latent = torch.rand(n_samples, latent_dim)\n",
        "\n",
        "# Transfer the neural nets and samples to GPU\n",
        "if torch.cuda.is_available():\n",
        "    discriminator = discriminator.cuda()\n",
        "    generator = generator.cuda()\n",
        "    sample_latent = sample_latent.cuda()\n",
        "\n",
        "# Create an empty dictionary to sotre history samples\n",
        "history_samples = {}\n",
        "\n",
        "# Create a LiveLoss logger instance for monitoring\n",
        "liveloss = PlotLosses(outputs=[MatplotlibPlot(cell_size=(6,2))])\n",
        "\n",
        "# Initialize step\n",
        "step = 0"
      ]
    },
    {
      "cell_type": "markdown",
      "metadata": {
        "id": "cL499fTNJcSd"
      },
      "source": [
        "## Training"
      ]
    },
    {
      "cell_type": "code",
      "execution_count": null,
      "metadata": {
        "id": "JsCO34_A3N2U",
        "vscode": {
          "languageId": "python"
        },
        "colab": {
          "base_uri": "https://localhost:8080/"
        },
        "outputId": "d629935a-bdc2-4992-e651-8d590246adcf"
      },
      "outputs": [
        {
          "output_type": "stream",
          "name": "stderr",
          "text": [
            "\n",
            "(d_loss=-7.820967, g_loss= 3.316602):  95%|▉| 28401/30000 [3:39:52<12:10,  2.19i\u001b[A\n",
            "(d_loss=-7.820967, g_loss= 3.316602):  95%|▉| 28404/30000 [3:39:53<11:58,  2.22i\u001b[A\n",
            "(d_loss=-7.820967, g_loss= 3.316602):  95%|▉| 28407/30000 [3:39:54<11:46,  2.25i\u001b[A\n",
            "(d_loss=-7.820967, g_loss= 3.316602):  95%|▉| 28410/30000 [3:39:55<11:21,  2.33i\u001b[A\n",
            "(d_loss=-7.820967, g_loss= 3.316602):  95%|▉| 28413/30000 [3:39:57<11:23,  2.32i\u001b[A"
          ]
        }
      ],
      "source": [
        "# Create a progress bar instance for monitoring\n",
        "progress_bar = tqdm(total=n_steps, initial=step, ncols=80, mininterval=1)\n",
        "best_d_loss = 10000.0\n",
        "best_g_loss = 10000.0\n",
        "# Start iterations\n",
        "while step < n_steps + 1:\n",
        "    # Iterate over the dataset\n",
        "    for real_samples in data_loader:\n",
        "        # Train the neural networks\n",
        "        generator.train()\n",
        "        d_loss, g_loss = train_one_step(d_optimizer, g_optimizer, real_samples[0])\n",
        "        if (abs(d_loss) < best_d_loss and abs(g_loss) < best_g_loss) or abs(d_loss) < 1 or abs(g_loss) < 1:\n",
        "            best_d_loss = abs(d_loss)\n",
        "            best_g_loss = abs(g_loss)\n",
        "            generator.eval()\n",
        "            with torch.no_grad():\n",
        "                torch.save(generator, f'/content/drive/MyDrive/museGAN/weight/generator.pt') \n",
        "        if step % 100 == 0:\n",
        "            # Record smoothened loss values to LiveLoss logger\n",
        "            liveloss.update({'d_loss': d_loss, 'g_loss': g_loss})\n",
        "            \n",
        "            # Update losses to progress bar\n",
        "            progress_bar.set_description_str(\n",
        "                \"(d_loss={: 8.6f}, g_loss={: 8.6f})\".format(d_loss, g_loss)\n",
        "            )\n",
        "\n",
        "            # Get generated samples\n",
        "            generator.eval()\n",
        "            sample_latent = torch.rand(n_samples, latent_dim).cuda()\n",
        "            with torch.no_grad():\n",
        "                samples = generator(sample_latent).cpu().detach().numpy()\n",
        "            history_samples[step] = samples\n",
        "\n",
        "            # Display loss curves\n",
        "            clear_output(True)\n",
        "            \n",
        "            # Display generated samples\n",
        "            samples = samples.transpose(1, 0, 2, 3).reshape(n_tracks, -1, n_pitches)\n",
        "            tracks = []\n",
        "            for idx, (program, is_drum, track_name) in enumerate(\n",
        "                zip(programs, is_drums, track_names)\n",
        "            ):\n",
        "                pianoroll = np.pad(\n",
        "                    samples[idx] > 0.5,\n",
        "                    ((0, 0), (lowest_pitch, 128 - lowest_pitch - n_pitches))\n",
        "                )\n",
        "                tracks.append(\n",
        "                    BinaryTrack(\n",
        "                        name=track_name,\n",
        "                        program=program,\n",
        "                        is_drum=is_drum,\n",
        "                        pianoroll=pianoroll\n",
        "                    )\n",
        "                )\n",
        "            m = Multitrack(\n",
        "                tracks=tracks,\n",
        "                tempo=tempo_array,\n",
        "                resolution=beat_resolution\n",
        "            )\n",
        "            m.write(f'./train_v3_{step}.mid') # download generated melody\n",
        "            plt.show()\n",
        "            \n",
        "        step += 1\n",
        "        progress_bar.update(1)\n",
        "        if step >= n_steps:\n",
        "            break"
      ]
    },
    {
      "cell_type": "markdown",
      "metadata": {
        "id": "UjX855uYf6sC"
      },
      "source": [
        "## Training History"
      ]
    },
    {
      "cell_type": "code",
      "execution_count": null,
      "metadata": {
        "id": "XqN1sKoODaCm",
        "vscode": {
          "languageId": "python"
        }
      },
      "outputs": [],
      "source": [
        "# Show history\n",
        "steps = [5000, 10000, 15000, 20000]\n",
        "for step in steps:\n",
        "    print(f\"Step={step}\")\n",
        "    samples = history_samples[step].transpose(1, 0, 2, 3).reshape(n_tracks, -1, n_pitches)\n",
        "    tracks = []\n",
        "    for idx, (program, is_drum, track_name) in enumerate(zip(programs, is_drums, track_names)):\n",
        "        pianoroll = np.pad(\n",
        "            samples[idx] > 0.5,\n",
        "            ((0, 0), (lowest_pitch, 128 - lowest_pitch - n_pitches))\n",
        "        )\n",
        "        tracks.append(\n",
        "            BinaryTrack(\n",
        "                name=track_name,\n",
        "                program=program,\n",
        "                is_drum=is_drum,\n",
        "                pianoroll=pianoroll,\n",
        "            )\n",
        "        )\n",
        "    m = Multitrack(tracks=tracks, tempo=tempo_array, resolution=beat_resolution)\n",
        "\n",
        "    axs = m.plot()\n",
        "    for ax in axs:\n",
        "        for x in range(\n",
        "            measure_resolution,\n",
        "            4 * measure_resolution * n_measures,\n",
        "            measure_resolution\n",
        "        ):\n",
        "            if x % (measure_resolution * 4) == 0:\n",
        "                ax.axvline(x - 0.5, color='k')\n",
        "            else:\n",
        "                ax.axvline(x - 0.5, color='k', linestyle='-', linewidth=1)\n",
        "    plt.gcf().set_size_inches((16, 8))\n",
        "    plt.show()\n",
        "print(best_d_loss, best_g_loss)"
      ]
    },
    {
      "cell_type": "markdown",
      "metadata": {
        "id": "fhj8026rzK6V"
      },
      "source": [
        "# Generating a new melody"
      ]
    },
    {
      "cell_type": "code",
      "execution_count": null,
      "metadata": {
        "id": "aeJpOeUXjdBu",
        "vscode": {
          "languageId": "python"
        }
      },
      "outputs": [],
      "source": [
        "with torch.no_grad():\n",
        "    generated = generator(torch.rand(batch_size, latent_dim).cuda()).cpu().detach().numpy()\n",
        "    generated = generated.transpose(1, 0, 2, 3).reshape(n_tracks, -1, n_pitches)\n",
        "\n",
        "tracks = []\n",
        "for idx, (program, is_drum, track_name) in enumerate(zip(programs, is_drums, track_names)):\n",
        "    pianoroll = np.pad(\n",
        "        generated[idx] > 0.5,\n",
        "        ((0, 0), (lowest_pitch, 128 - lowest_pitch - n_pitches))\n",
        "    )\n",
        "    tracks.append(\n",
        "        BinaryTrack(\n",
        "            name=track_name,\n",
        "            program=program,\n",
        "            is_drum=is_drum,\n",
        "            pianoroll=pianoroll,\n",
        "        )\n",
        "    )\n",
        "m = Multitrack(tracks=tracks, tempo=tempo_array, resolution=beat_resolution)\n",
        "\n",
        "m.write(f'./train_v3_generated.mid')\n",
        "\n",
        "axs = m.plot()\n",
        "plt.gcf().set_size_inches((16, 8))\n",
        "plt.show()"
      ]
    },
    {
      "cell_type": "code",
      "execution_count": null,
      "metadata": {
        "id": "2sendSvqJD5o",
        "vscode": {
          "languageId": "python"
        }
      },
      "outputs": [],
      "source": []
    }
  ],
  "metadata": {
    "colab": {
      "machine_shape": "hm",
      "provenance": []
    },
    "kernelspec": {
      "display_name": "Python 3",
      "name": "python3"
    },
    "gpuClass": "standard",
    "accelerator": "GPU"
  },
  "nbformat": 4,
  "nbformat_minor": 0
}